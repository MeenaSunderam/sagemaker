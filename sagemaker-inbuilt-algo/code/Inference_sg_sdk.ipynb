{
 "cells": [
  {
   "cell_type": "markdown",
   "metadata": {},
   "source": [
    "### Some reference Material\n",
    "\n",
    "Lambda function - https://github.com/aws-samples/serverless-ai-workshop/blob/master/Lab%202%20-%20SageMaker%20Batch%20Transform/lambda_function.py\n",
    "\n",
    "AWS Boto3 SDK - https://github.com/aws/amazon-sagemaker-examples/blob/main/async-inference/Async-Inference-Walkthrough.ipynb"
   ]
  },
  {
   "cell_type": "code",
   "execution_count": 2,
   "metadata": {},
   "outputs": [],
   "source": [
    "import boto3\n",
    "import pandas as pd\n",
    "import numpy as np\n",
    "\n",
    "import sagemaker\n",
    "from sagemaker import get_execution_role\n",
    "from sagemaker.s3 import S3Uploader"
   ]
  },
  {
   "cell_type": "code",
   "execution_count": 3,
   "metadata": {},
   "outputs": [
    {
     "name": "stdout",
     "output_type": "stream",
     "text": [
      "us-east-1\n"
     ]
    }
   ],
   "source": [
    "region = boto3.Session().region_name\n",
    "session = sagemaker.Session()\n",
    "role = get_execution_role()\n",
    "print(region)"
   ]
  },
  {
   "cell_type": "code",
   "execution_count": 4,
   "metadata": {},
   "outputs": [],
   "source": [
    "output_path = \"s3://my-sage-code-samples/use-case-1/output\"\n",
    "instance_type = 'ml.m4.xlarge'"
   ]
  },
  {
   "cell_type": "markdown",
   "metadata": {},
   "source": [
    "### Batch Transform"
   ]
  },
  {
   "cell_type": "code",
   "execution_count": 10,
   "metadata": {},
   "outputs": [],
   "source": [
    "xgbtransformer = sagemaker.transformer.Transformer(model_name = 'xgboost-2022-03-03-21-32-59-463', \n",
    "                                                   instance_count = 1, \n",
    "                                                   instance_type = instance_type, \n",
    "                                                   strategy=None, \n",
    "                                                   assemble_with=None, \n",
    "                                                   output_path=output_path, \n",
    "                                                   output_kms_key=None, \n",
    "                                                   accept=None, \n",
    "                                                   max_concurrent_transforms=None, \n",
    "                                                   max_payload=None, \n",
    "                                                   tags=None, \n",
    "                                                   env=None, \n",
    "                                                   base_transform_job_name=None, \n",
    "                                                   sagemaker_session=session, \n",
    "                                                   volume_kms_key=None)"
   ]
  },
  {
   "cell_type": "code",
   "execution_count": null,
   "metadata": {},
   "outputs": [
    {
     "name": "stdout",
     "output_type": "stream",
     "text": [
      ".............."
     ]
    }
   ],
   "source": [
    "test_location = \"s3://my-sage-code-samples/use-case-1/data/test.csv\"\n",
    "xgbtransformer.transform(test_location, content_type='text/csv', split_type='Line')"
   ]
  },
  {
   "cell_type": "markdown",
   "metadata": {},
   "source": [
    "### Real Time inference"
   ]
  },
  {
   "cell_type": "code",
   "execution_count": 7,
   "metadata": {},
   "outputs": [],
   "source": [
    "image_uri = container = sagemaker.image_uris.retrieve(region=region, framework='xgboost', version='latest')\n",
    "model_data = 's3://my-sage-code-samples/use-case-1/output/xgboost-2022-03-03-21-02-22-074/output/model.tar.gz'\n",
    "\n",
    "xgbmodel = sagemaker.model.Model(image_uri = image_uri, \n",
    "                                 model_data=model_data, \n",
    "                                 role=role, \n",
    "                                 predictor_cls=None, \n",
    "                                 env=None, \n",
    "                                 name=None, \n",
    "                                 vpc_config=None, \n",
    "                                 sagemaker_session=session)"
   ]
  },
  {
   "cell_type": "code",
   "execution_count": null,
   "metadata": {},
   "outputs": [
    {
     "name": "stdout",
     "output_type": "stream",
     "text": [
      "------"
     ]
    }
   ],
   "source": [
    "xgbmodel.deploy(instance_count = 1, \n",
    "                instance_type = instance_type,\n",
    "                initial_instance_count = 1)"
   ]
  }
 ],
 "metadata": {
  "instance_type": "ml.t3.medium",
  "kernelspec": {
   "display_name": "Python 3 (Data Science)",
   "language": "python",
   "name": "python3__SAGEMAKER_INTERNAL__arn:aws:sagemaker:us-east-1:081325390199:image/datascience-1.0"
  },
  "language_info": {
   "codemirror_mode": {
    "name": "ipython",
    "version": 3
   },
   "file_extension": ".py",
   "mimetype": "text/x-python",
   "name": "python",
   "nbconvert_exporter": "python",
   "pygments_lexer": "ipython3",
   "version": "3.7.10"
  }
 },
 "nbformat": 4,
 "nbformat_minor": 4
}
