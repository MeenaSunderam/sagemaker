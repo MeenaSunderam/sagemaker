{
 "cells": [
  {
   "cell_type": "code",
   "execution_count": 4,
   "metadata": {},
   "outputs": [],
   "source": [
    "import boto3\n",
    "import pandas as pd\n",
    "import numpy as np\n",
    "\n",
    "import sagemaker\n",
    "from sagemaker import get_execution_role\n",
    "from sagemaker.s3 import S3Uploader"
   ]
  },
  {
   "cell_type": "code",
   "execution_count": 6,
   "metadata": {},
   "outputs": [],
   "source": [
    "region = boto3.Session().region_name\n",
    "session = sagemaker.Session()\n",
    "role = get_execution_role()\n"
   ]
  },
  {
   "cell_type": "code",
   "execution_count": null,
   "metadata": {},
   "outputs": [],
   "source": [
    "sagemaker.Create_Model()"
   ]
  },
  {
   "cell_type": "code",
   "execution_count": null,
   "metadata": {},
   "outputs": [],
   "source": [
    "output_path = \"s3://my-sage-code-samples/use-case-1/output\"\n",
    "instance_type = 'ml.m4.xlarge'"
   ]
  },
  {
   "cell_type": "code",
   "execution_count": null,
   "metadata": {},
   "outputs": [],
   "source": [
    "xgbtransformer = sagemaker.transformer.Transformer(model_name, \n",
    "                                                   instance_count = 1, \n",
    "                                                   instance_type = instance_type, \n",
    "                                                   strategy=None, \n",
    "                                                   assemble_with=None, \n",
    "                                                   output_path=output_path, \n",
    "                                                   output_kms_key=None, \n",
    "                                                   accept=None, \n",
    "                                                   max_concurrent_transforms=None, \n",
    "                                                   max_payload=None, \n",
    "                                                   tags=None, \n",
    "                                                   env=None, \n",
    "                                                   base_transform_job_name=None, \n",
    "                                                   sagemaker_session=session, \n",
    "                                                   volume_kms_key=None)\n",
    "\n",
    "test_location = \"s3://my-sage-code-samples/use-case-1/data/test.csv\"\n",
    "xgb_transformer.transform(test_location, content_type='text/csv', split_type='Line')"
   ]
  }
 ],
 "metadata": {
  "instance_type": "ml.t3.medium",
  "kernelspec": {
   "display_name": "Python 3 (Data Science)",
   "language": "python",
   "name": "python3__SAGEMAKER_INTERNAL__arn:aws:sagemaker:us-east-1:081325390199:image/datascience-1.0"
  },
  "language_info": {
   "codemirror_mode": {
    "name": "ipython",
    "version": 3
   },
   "file_extension": ".py",
   "mimetype": "text/x-python",
   "name": "python",
   "nbconvert_exporter": "python",
   "pygments_lexer": "ipython3",
   "version": "3.7.10"
  }
 },
 "nbformat": 4,
 "nbformat_minor": 4
}
